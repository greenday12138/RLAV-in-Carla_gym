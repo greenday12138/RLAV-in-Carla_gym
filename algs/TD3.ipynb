{
 "cells": [],
 "metadata": {
  "kernelspec": {
   "display_name": "Python 3.7.0 ('carla')",
   "language": "python",
   "name": "python3"
  },
  "language_info": {
   "name": "python",
   "version": "3.7.0"
  },
  "orig_nbformat": 4,
  "vscode": {
   "interpreter": {
    "hash": "233f991bb3064d3ea501abbad4add0d2de6c95392c9f4e3751febc810e6da523"
   }
  }
 },
 "nbformat": 4,
 "nbformat_minor": 2
}
